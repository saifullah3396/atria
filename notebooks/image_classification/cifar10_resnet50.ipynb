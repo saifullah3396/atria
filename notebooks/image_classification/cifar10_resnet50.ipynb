{
 "cells": [
  {
   "cell_type": "code",
   "execution_count": 1,
   "metadata": {},
   "outputs": [],
   "source": [
    "%load_ext autoreload\n",
    "%autoreload 2"
   ]
  },
  {
   "cell_type": "code",
   "execution_count": 2,
   "metadata": {},
   "outputs": [
    {
     "data": {
      "text/plain": [
       "True"
      ]
     },
     "execution_count": 2,
     "metadata": {},
     "output_type": "execute_result"
    }
   ],
   "source": [
    "import sys \n",
    "import dotenv\n",
    "sys.path.append(\"../../\")\n",
    "\n",
    "dotenv.load_dotenv(\"../.env\")"
   ]
  },
  {
   "cell_type": "code",
   "execution_count": 3,
   "metadata": {},
   "outputs": [],
   "source": [
    "USERNAME = \"mytestuser1\"\n",
    "PASSWORD = \"mytestpassword\"\n",
    "EMAIL = \"mytestuser1@gmail.com\"\n",
    "FULL_NAME = \"My Test User\""
   ]
  },
  {
   "cell_type": "code",
   "execution_count": 4,
   "metadata": {},
   "outputs": [],
   "source": [
    "# first of all we sign up to the atria hub to manage our datasets and models\n",
    "from atria_hub.hub import AtriaHub\n",
    "hub = AtriaHub()\n",
    "try:\n",
    "    user = hub.auth.sign_up(email=EMAIL, password=PASSWORD, full_name=FULL_NAME, username=USERNAME)\n",
    "except Exception:\n",
    "    pass "
   ]
  },
  {
   "cell_type": "code",
   "execution_count": 5,
   "metadata": {},
   "outputs": [
    {
     "name": "stderr",
     "output_type": "stream",
     "text": [
      "Sign-in successful for mytestuser1@gmail.com\n"
     ]
    },
    {
     "data": {
      "text/plain": [
       "<atria_hub.hub.AtriaHub at 0x7c9e30cae190>"
      ]
     },
     "execution_count": 5,
     "metadata": {},
     "output_type": "execute_result"
    }
   ],
   "source": [
    "# after a successful sign up, we can initialize the hub with our login credentials\n",
    "user = hub.auth.sign_in(email=EMAIL, password=PASSWORD)\n",
    "hub.initialize()\n"
   ]
  },
  {
   "cell_type": "code",
   "execution_count": 6,
   "metadata": {},
   "outputs": [
    {
     "name": "stderr",
     "output_type": "stream",
     "text": [
      "/mnt/hephaistos/projects/atria_agent/atria/.venv/lib/python3.11/site-packages/tqdm/auto.py:21: TqdmWarning: IProgress not found. Please update jupyter and ipywidgets. See https://ipywidgets.readthedocs.io/en/stable/user_install.html\n",
      "  from .autonotebook import tqdm as notebook_tqdm\n",
      "2025-07-19 04:19:27,435\tINFO util.py:154 -- Missing packages: ['ipywidgets']. Run `pip install -U ipywidgets`, then restart the notebook server for rich notebook output.\n",
      "[2025-07-19 04:19:27][atria_datasets.core.dataset.atria_dataset][INFO] Loading dataset cifar10 from registry.\n",
      "[2025-07-19 04:19:27][atria_datasets.core.dataset.atria_dataset][INFO] Loading cached split train from /mnt/hephaistos/.atria/datasets/cifar10/main-01eefb81/delta/train\n",
      "[2025-07-19 04:19:27][atria_datasets.core.dataset.atria_dataset][INFO] Loading cached split test from /mnt/hephaistos/.atria/datasets/cifar10/main-01eefb81/delta/test\n",
      "[2025-07-19 04:19:28][atria_datasets.core.dataset.atria_dataset][WARNING] Split validation not found. Skipping.\n",
      "[2025-07-19 04:19:28][atria_datasets.core.dataset.atria_dataset][INFO] Uploading dataset Cifar10 to hub with name test-cifar10-5 and config test.\n",
      "[2025-07-19 04:19:28][atria_datasets.core.dataset.atria_dataset][ERROR] Failed to upload dataset to hub: This dataset already contains uploaded files in branch 'test'. Please use a different branch name or delete the existing files.\n"
     ]
    },
    {
     "ename": "RuntimeError",
     "evalue": "This dataset already contains uploaded files in branch 'test'. Please use a different branch name or delete the existing files.",
     "output_type": "error",
     "traceback": [
      "\u001b[31m---------------------------------------------------------------------------\u001b[39m",
      "\u001b[31mRuntimeError\u001b[39m                              Traceback (most recent call last)",
      "\u001b[36mCell\u001b[39m\u001b[36m \u001b[39m\u001b[32mIn[6]\u001b[39m\u001b[32m, line 5\u001b[39m\n\u001b[32m      3\u001b[39m dataset = AtriaImageDataset.load_from_registry(\u001b[33m\"\u001b[39m\u001b[33mcifar10\u001b[39m\u001b[33m\"\u001b[39m)\n\u001b[32m      4\u001b[39m \u001b[38;5;66;03m# now lets upload the dataset to the atria hub\u001b[39;00m\n\u001b[32m----> \u001b[39m\u001b[32m5\u001b[39m \u001b[43mdataset\u001b[49m\u001b[43m.\u001b[49m\u001b[43mupload_to_hub\u001b[49m\u001b[43m(\u001b[49m\u001b[33;43m'\u001b[39;49m\u001b[33;43mtest-cifar10-5\u001b[39;49m\u001b[33;43m'\u001b[39;49m\u001b[43m,\u001b[49m\u001b[43m \u001b[49m\u001b[43mbranch\u001b[49m\u001b[43m=\u001b[49m\u001b[33;43m'\u001b[39;49m\u001b[33;43mtest\u001b[39;49m\u001b[33;43m'\u001b[39;49m\u001b[43m)\u001b[49m\n",
      "\u001b[36mFile \u001b[39m\u001b[32m/mnt/hephaistos/projects/atria_agent/atria/atria_datasets/src/atria_datasets/core/dataset/atria_dataset.py:487\u001b[39m, in \u001b[36mAtriaDataset.upload_to_hub\u001b[39m\u001b[34m(self, name, branch, is_public)\u001b[39m\n\u001b[32m    478\u001b[39m     hub = AtriaHub().initialize()\n\u001b[32m    479\u001b[39m     dataset = hub.datasets.get_or_create(\n\u001b[32m    480\u001b[39m         username=hub.auth.username,\n\u001b[32m    481\u001b[39m         name=name,\n\u001b[32m   (...)\u001b[39m\u001b[32m    485\u001b[39m         is_public=is_public,\n\u001b[32m    486\u001b[39m     )\n\u001b[32m--> \u001b[39m\u001b[32m487\u001b[39m     \u001b[43mhub\u001b[49m\u001b[43m.\u001b[49m\u001b[43mdatasets\u001b[49m\u001b[43m.\u001b[49m\u001b[43mupload_files\u001b[49m\u001b[43m(\u001b[49m\n\u001b[32m    488\u001b[39m \u001b[43m        \u001b[49m\u001b[43mdataset\u001b[49m\u001b[43m=\u001b[49m\u001b[43mdataset\u001b[49m\u001b[43m,\u001b[49m\n\u001b[32m    489\u001b[39m \u001b[43m        \u001b[49m\u001b[43mbranch\u001b[49m\u001b[43m=\u001b[49m\u001b[43mbranch\u001b[49m\u001b[43m,\u001b[49m\n\u001b[32m    490\u001b[39m \u001b[43m        \u001b[49m\u001b[43mdataset_files\u001b[49m\u001b[43m=\u001b[49m\u001b[38;5;28;43mself\u001b[39;49m\u001b[43m.\u001b[49m\u001b[43mget_dataset_files_from_dir\u001b[49m\u001b[43m(\u001b[49m\u001b[43m)\u001b[49m\u001b[43m,\u001b[49m\n\u001b[32m    491\u001b[39m \u001b[43m    \u001b[49m\u001b[43m)\u001b[49m\n\u001b[32m    492\u001b[39m \u001b[38;5;28;01mexcept\u001b[39;00m \u001b[38;5;167;01mImportError\u001b[39;00m:\n\u001b[32m    493\u001b[39m     \u001b[38;5;28;01mraise\u001b[39;00m \u001b[38;5;167;01mImportError\u001b[39;00m(\n\u001b[32m    494\u001b[39m         \u001b[33m\"\u001b[39m\u001b[33mThe \u001b[39m\u001b[33m'\u001b[39m\u001b[33matria_hub\u001b[39m\u001b[33m'\u001b[39m\u001b[33m package is required to upload datasets to the hub. \u001b[39m\u001b[33m\"\u001b[39m\n\u001b[32m    495\u001b[39m         \u001b[33m\"\u001b[39m\u001b[33mPlease install it using \u001b[39m\u001b[33m'\u001b[39m\u001b[33muv add https://github.com/saifullah3396/atria_hub\u001b[39m\u001b[33m'\u001b[39m\u001b[33m.\u001b[39m\u001b[33m\"\u001b[39m\n\u001b[32m    496\u001b[39m     )\n",
      "\u001b[36mFile \u001b[39m\u001b[32m/mnt/hephaistos/projects/atria_agent/atria/atria_hub/src/atria_hub/api/datasets.py:110\u001b[39m, in \u001b[36mDatasetsApi.upload_files\u001b[39m\u001b[34m(self, dataset, branch, dataset_files)\u001b[39m\n\u001b[32m    108\u001b[39m dir_ls = \u001b[38;5;28mself\u001b[39m._client.fs.ls(tgt, refresh=\u001b[38;5;28;01mTrue\u001b[39;00m)\n\u001b[32m    109\u001b[39m \u001b[38;5;28;01mif\u001b[39;00m \u001b[33mf\u001b[39m\u001b[33m\"\u001b[39m\u001b[38;5;132;01m{\u001b[39;00mtgt\u001b[38;5;132;01m}\u001b[39;00m\u001b[33mdelta/\u001b[39m\u001b[33m\"\u001b[39m \u001b[38;5;129;01min\u001b[39;00m [x[\u001b[33m\"\u001b[39m\u001b[33mname\u001b[39m\u001b[33m\"\u001b[39m] \u001b[38;5;28;01mfor\u001b[39;00m x \u001b[38;5;129;01min\u001b[39;00m dir_ls]:\n\u001b[32m--> \u001b[39m\u001b[32m110\u001b[39m     \u001b[38;5;28;01mraise\u001b[39;00m \u001b[38;5;167;01mRuntimeError\u001b[39;00m(\n\u001b[32m    111\u001b[39m         \u001b[33mf\u001b[39m\u001b[33m\"\u001b[39m\u001b[33mThis dataset already contains uploaded files in branch \u001b[39m\u001b[33m'\u001b[39m\u001b[38;5;132;01m{\u001b[39;00mbranch\u001b[38;5;132;01m}\u001b[39;00m\u001b[33m'\u001b[39m\u001b[33m. \u001b[39m\u001b[33m\"\u001b[39m\n\u001b[32m    112\u001b[39m         \u001b[33m\"\u001b[39m\u001b[33mPlease use a different branch name or delete the existing files.\u001b[39m\u001b[33m\"\u001b[39m\n\u001b[32m    113\u001b[39m     )\n\u001b[32m    115\u001b[39m \u001b[38;5;66;03m# iterate over the dataset files and upload them to the hub\u001b[39;00m\n\u001b[32m    116\u001b[39m logger.info(\n\u001b[32m    117\u001b[39m     \u001b[33mf\u001b[39m\u001b[33m\"\u001b[39m\u001b[33mUploading \u001b[39m\u001b[38;5;132;01m{\u001b[39;00m\u001b[38;5;28mlen\u001b[39m(dataset_files)\u001b[38;5;132;01m}\u001b[39;00m\u001b[33m files to dataset \u001b[39m\u001b[38;5;132;01m{\u001b[39;00mdataset.name\u001b[38;5;132;01m}\u001b[39;00m\u001b[33m in branch \u001b[39m\u001b[38;5;132;01m{\u001b[39;00mbranch\u001b[38;5;132;01m}\u001b[39;00m\u001b[33m...\u001b[39m\u001b[33m\"\u001b[39m\n\u001b[32m    118\u001b[39m )\n",
      "\u001b[31mRuntimeError\u001b[39m: This dataset already contains uploaded files in branch 'test'. Please use a different branch name or delete the existing files."
     ]
    }
   ],
   "source": [
    "# now we first load the cifar10 dataset from the atria datasets predefiend registry\n",
    "from atria_datasets import AtriaImageDataset\n",
    "dataset = AtriaImageDataset.load_from_registry(\"cifar10\")\n",
    "# now lets upload the dataset to the atria hub\n",
    "dataset.upload_to_hub('test-cifar10-5', branch='test')\n"
   ]
  },
  {
   "cell_type": "code",
   "execution_count": null,
   "metadata": {},
   "outputs": [
    {
     "name": "stderr",
     "output_type": "stream",
     "text": [
      "[2025-07-19 04:15:23][atria_datasets.core.dataset.atria_dataset][INFO] Uploading dataset Cifar10 to hub with name test-cifar10-4 and config test.\n",
      "[2025-07-19 04:15:23][atria_datasets.core.dataset.atria_dataset][ERROR] Failed to upload dataset to hub: This dataset already contains uploaded files in branch 'test'. Please use a different branch name or delete the existing files.\n"
     ]
    },
    {
     "name": "stdout",
     "output_type": "stream",
     "text": [
      "dir_ls mytestuser1-26c51e41f3db44e1/test/ [{'checksum': 'd41d8cd98f00b204e9800998ecf8427e', 'content-type': 'text/markdown', 'mtime': 1752871159, 'name': 'mytestuser1-26c51e41f3db44e1/test/card.md', 'size': 0, 'type': 'file'}, {'name': 'mytestuser1-26c51e41f3db44e1/test/conf/', 'size': 0, 'type': 'directory'}, {'name': 'mytestuser1-26c51e41f3db44e1/test/delta/', 'size': 0, 'type': 'directory'}, {'checksum': '4b44958f6b5d0ec43b61cefee30fb7d8', 'content-type': 'application/octet-stream', 'mtime': 1752891124, 'name': 'mytestuser1-26c51e41f3db44e1/test/metadata.yaml', 'size': 235, 'type': 'file'}]\n"
     ]
    },
    {
     "ename": "RuntimeError",
     "evalue": "This dataset already contains uploaded files in branch 'test'. Please use a different branch name or delete the existing files.",
     "output_type": "error",
     "traceback": [
      "\u001b[31m---------------------------------------------------------------------------\u001b[39m",
      "\u001b[31mRuntimeError\u001b[39m                              Traceback (most recent call last)",
      "\u001b[36mCell\u001b[39m\u001b[36m \u001b[39m\u001b[32mIn[12]\u001b[39m\u001b[32m, line 2\u001b[39m\n\u001b[32m      1\u001b[39m \u001b[38;5;66;03m# now lets upload the dataset to the atria hub\u001b[39;00m\n\u001b[32m----> \u001b[39m\u001b[32m2\u001b[39m \u001b[43mdataset\u001b[49m\u001b[43m.\u001b[49m\u001b[43mupload_to_hub\u001b[49m\u001b[43m(\u001b[49m\u001b[33;43m'\u001b[39;49m\u001b[33;43mtest-cifar10-4\u001b[39;49m\u001b[33;43m'\u001b[39;49m\u001b[43m,\u001b[49m\u001b[43m \u001b[49m\u001b[43mbranch\u001b[49m\u001b[43m=\u001b[49m\u001b[33;43m'\u001b[39;49m\u001b[33;43mtest\u001b[39;49m\u001b[33;43m'\u001b[39;49m\u001b[43m)\u001b[49m\n",
      "\u001b[36mFile \u001b[39m\u001b[32m/mnt/hephaistos/projects/atria_agent/atria/atria_datasets/src/atria_datasets/core/dataset/atria_dataset.py:487\u001b[39m, in \u001b[36mAtriaDataset.upload_to_hub\u001b[39m\u001b[34m(self, name, branch, is_public)\u001b[39m\n\u001b[32m    478\u001b[39m     hub = AtriaHub().initialize()\n\u001b[32m    479\u001b[39m     dataset = hub.datasets.get_or_create(\n\u001b[32m    480\u001b[39m         username=hub.auth.username,\n\u001b[32m    481\u001b[39m         name=name,\n\u001b[32m   (...)\u001b[39m\u001b[32m    485\u001b[39m         is_public=is_public,\n\u001b[32m    486\u001b[39m     )\n\u001b[32m--> \u001b[39m\u001b[32m487\u001b[39m     \u001b[43mhub\u001b[49m\u001b[43m.\u001b[49m\u001b[43mdatasets\u001b[49m\u001b[43m.\u001b[49m\u001b[43mupload_files\u001b[49m\u001b[43m(\u001b[49m\n\u001b[32m    488\u001b[39m \u001b[43m        \u001b[49m\u001b[43mdataset\u001b[49m\u001b[43m=\u001b[49m\u001b[43mdataset\u001b[49m\u001b[43m,\u001b[49m\n\u001b[32m    489\u001b[39m \u001b[43m        \u001b[49m\u001b[43mbranch\u001b[49m\u001b[43m=\u001b[49m\u001b[43mbranch\u001b[49m\u001b[43m,\u001b[49m\n\u001b[32m    490\u001b[39m \u001b[43m        \u001b[49m\u001b[43mdataset_files\u001b[49m\u001b[43m=\u001b[49m\u001b[38;5;28;43mself\u001b[39;49m\u001b[43m.\u001b[49m\u001b[43mget_dataset_files_from_dir\u001b[49m\u001b[43m(\u001b[49m\u001b[43m)\u001b[49m\u001b[43m,\u001b[49m\n\u001b[32m    491\u001b[39m \u001b[43m    \u001b[49m\u001b[43m)\u001b[49m\n\u001b[32m    492\u001b[39m \u001b[38;5;28;01mexcept\u001b[39;00m \u001b[38;5;167;01mImportError\u001b[39;00m:\n\u001b[32m    493\u001b[39m     \u001b[38;5;28;01mraise\u001b[39;00m \u001b[38;5;167;01mImportError\u001b[39;00m(\n\u001b[32m    494\u001b[39m         \u001b[33m\"\u001b[39m\u001b[33mThe \u001b[39m\u001b[33m'\u001b[39m\u001b[33matria_hub\u001b[39m\u001b[33m'\u001b[39m\u001b[33m package is required to upload datasets to the hub. \u001b[39m\u001b[33m\"\u001b[39m\n\u001b[32m    495\u001b[39m         \u001b[33m\"\u001b[39m\u001b[33mPlease install it using \u001b[39m\u001b[33m'\u001b[39m\u001b[33muv add https://github.com/saifullah3396/atria_hub\u001b[39m\u001b[33m'\u001b[39m\u001b[33m.\u001b[39m\u001b[33m\"\u001b[39m\n\u001b[32m    496\u001b[39m     )\n",
      "\u001b[36mFile \u001b[39m\u001b[32m<string>:9\u001b[39m, in \u001b[36mupload_files\u001b[39m\u001b[34m(self, dataset, branch, dataset_files)\u001b[39m\n",
      "\u001b[31mRuntimeError\u001b[39m: This dataset already contains uploaded files in branch 'test'. Please use a different branch name or delete the existing files."
     ]
    }
   ],
   "source": [
    "# now lets upload the dataset to the atria hub\n",
    "dataset.upload_to_hub('test-cifar10-4', branch='test')"
   ]
  },
  {
   "cell_type": "code",
   "execution_count": 12,
   "metadata": {},
   "outputs": [
    {
     "name": "stderr",
     "output_type": "stream",
     "text": [
      "[2025-07-19 04:23:03][atria_datasets.core.dataset.atria_hub_dataset][INFO] Streaming dataset split train from lakefs://mytestuser1-26c51e41f3db44e1/test/delta/train/\n",
      "[2025-07-19 04:23:03][atria_datasets.core.dataset.atria_hub_dataset][INFO] Streaming dataset split test from lakefs://mytestuser1-26c51e41f3db44e1/test/delta/test/\n",
      "[2025-07-19 04:23:03][atria_datasets.core.dataset.atria_dataset][WARNING] Split validation not found. Skipping.\n"
     ]
    },
    {
     "name": "stdout",
     "output_type": "stream",
     "text": [
      "homepage=None description='CIFAR-10 dataset' license=None citation=None dataset_labels=DatasetLabels(\n",
      "    classification=[\n",
      "        'airplane',\n",
      "        'automobile',\n",
      "        'bird',\n",
      "        'cat',\n",
      "        'deer',\n",
      "        'dog',\n",
      "        'frog',\n",
      "        'horse',\n",
      "        'ship',\n",
      "        'truck'\n",
      "    ],\n",
      "    ser=None,\n",
      "    layout=None\n",
      ")\n",
      "ImageInstance(\n",
      "    index=0,\n",
      "    sample_id='09447729-0f39-4fb3-855f-9aedf183d106',\n",
      "    image=Image(\n",
      "        content=<PIL.PngImagePlugin.PngImageFile image mode=RGB size=32x32 at 0x7C9BAC191790>,\n",
      "        source_width=32,\n",
      "        source_height=32,\n",
      "        width=32,\n",
      "        height=32,\n",
      "        channels=3\n",
      "    ),\n",
      "    gt=GroundTruth(\n",
      "        classification=ClassificationGT(label=Label(value=6, name='frog'))\n",
      "    )\n",
      ")\n"
     ]
    }
   ],
   "source": [
    "# now lets upload the dataset to the atria hub\n",
    "from atria_datasets.core.dataset.atria_dataset import AtriaImageDataset\n",
    "dataset = AtriaImageDataset.load_from_hub(\n",
    "    name=f\"{hub.auth.username}/test-cifar10-4/test\", streaming=True\n",
    ")\n",
    "print(dataset.metadata)\n",
    "x = dataset.train[0]\n",
    "print(x)"
   ]
  },
  {
   "cell_type": "code",
   "execution_count": 13,
   "metadata": {},
   "outputs": [
    {
     "name": "stderr",
     "output_type": "stream",
     "text": [
      "[2025-07-19 04:23:15][atria_models.core.timm_model][INFO] Setting up model TimmModel(model_name='resnet50', num_classes=10)\n"
     ]
    }
   ],
   "source": [
    "# now we build a resnet50 model pipeline for image classification from the atria models registry\n",
    "from atria_models.pipelines.atria_model_pipeline import AtriaModelPipeline\n",
    "model_pipeline = AtriaModelPipeline.load_from_registry(\n",
    "    pipeline_name=\"image_classification\",\n",
    "    model_name=\"resnet50\",\n",
    "    dataset_metadata=dataset.metadata,\n",
    ")\n",
    "\n"
   ]
  },
  {
   "cell_type": "code",
   "execution_count": 16,
   "metadata": {},
   "outputs": [
    {
     "name": "stderr",
     "output_type": "stream",
     "text": [
      "[2025-07-19 04:24:18][atria_models.pipelines.atria_model_pipeline][INFO] Uploading model ImageClassificationPipeline to hub with name resnet50 and config main.\n"
     ]
    }
   ],
   "source": [
    "# now we upload the model pipeline to the atria hub\n",
    "model_pipeline.upload_to_hub(\n",
    "    name=\"resnet50\",\n",
    "    branch=\"main\",\n",
    ")"
   ]
  },
  {
   "cell_type": "code",
   "execution_count": 21,
   "metadata": {},
   "outputs": [
    {
     "name": "stderr",
     "output_type": "stream",
     "text": [
      "[2025-07-19 04:28:46][atria_models.pipelines.atria_model_pipeline][INFO] Loading model mytestuser1/resnet50/main from hub.\n"
     ]
    },
    {
     "name": "stdout",
     "output_type": "stream",
     "text": [
      "mytestuser1/resnet50/main\n"
     ]
    },
    {
     "name": "stderr",
     "output_type": "stream",
     "text": [
      "[2025-07-19 04:28:47][atria_models.core.timm_model][INFO] Setting up model TimmModel(model_name='resnet50', num_classes=10)\n"
     ]
    }
   ],
   "source": [
    "# now we load the model pipeline from the hub\n",
    "name = f\"{hub.auth.username}/resnet50/main\"\n",
    "print(name)\n",
    "model_pipeline = AtriaModelPipeline.load_from_hub(\n",
    "    name=f\"{hub.auth.username}/resnet50/main\",\n",
    ")"
   ]
  },
  {
   "cell_type": "code",
   "execution_count": 20,
   "metadata": {},
   "outputs": [
    {
     "name": "stdout",
     "output_type": "stream",
     "text": [
      "[3, 5, 8, 4, 9, 10, 7, 10, 3, 0]\n",
      "[6, 7, 7, 4, 3, 6, 7, 0, 3, 4]\n"
     ]
    },
    {
     "data": {
      "text/plain": [
       "ClassificationModelOutput(loss=tensor(2.6781, grad_fn=<NllLossBackward0>), logits=tensor([[-0.0011, -0.3447,  0.1753,  0.0382, -0.1193,  0.2478, -0.0659,  0.1210,\n",
       "         -0.2859,  0.3294]], grad_fn=<AddmmBackward0>), prediction=None, label=Label(value=tensor([1]), name=['participant']))"
      ]
     },
     "execution_count": 20,
     "metadata": {},
     "output_type": "execute_result"
    }
   ],
   "source": [
    "from atria_core.types.factory import ImageInstanceFactory\n",
    "from atria_core.types import GroundTruth\n",
    "model_pipeline.enable_runtime_transforms()\n",
    "image = ImageInstanceFactory.build()\n",
    "image.gt = GroundTruth(classification = image.gt.classification)\n",
    "model_pipeline.training_step([image])"
   ]
  },
  {
   "cell_type": "code",
   "execution_count": null,
   "metadata": {},
   "outputs": [],
   "source": [
    "# from omegaconf import OmegaConf\n",
    "# print(json.dumps(OmegaConf.to_container(model_pipeline.config), indent=2, sort_keys=True))"
   ]
  },
  {
   "cell_type": "code",
   "execution_count": null,
   "metadata": {},
   "outputs": [],
   "source": [
    "# from atria_models.pipelines.classification.image import ImageClassificationPipeline\n",
    "\n",
    "# print(model_pipeline.config)\n",
    "# model_pipeline.upload_to_hub(\n",
    "#     \"mymodel\"\n",
    "# )\n",
    "\n",
    "# loaded = ImageClassificationPipeline.load_from_hub(\n",
    "#     \"mymodel\", \n",
    "# )"
   ]
  },
  {
   "cell_type": "code",
   "execution_count": null,
   "metadata": {},
   "outputs": [],
   "source": [
    "# loaded.state_dict()['dataset_metadata'] = model_pipeline.state_dict()['dataset_metadata']\n",
    "# loaded.state_dict()['config'] = model_pipeline.state_dict()['config']\n",
    "# print(loaded.state_dict()['config'])"
   ]
  },
  {
   "cell_type": "code",
   "execution_count": null,
   "metadata": {},
   "outputs": [],
   "source": [
    "# from atria_models.pipelines.classification.image import ImageClassificationPipeline\n",
    "# from omegaconf import OmegaConf\n",
    "# from atria_models.registry import MODEL\n",
    "# from atria_models.core.timm_model import TimmModel\n",
    "# from rich.pretty import pretty_repr\n",
    "# import json\n",
    "# model = TimmModel(model_name=\"resnet50\")\n",
    "# pipeline = ImageClassificationPipeline(model=model, checkpoint_configs='test')\n",
    "# print(json.dumps(pipeline._config, indent=2))"
   ]
  }
 ],
 "metadata": {
  "kernelspec": {
   "display_name": "atria",
   "language": "python",
   "name": "python3"
  },
  "language_info": {
   "codemirror_mode": {
    "name": "ipython",
    "version": 3
   },
   "file_extension": ".py",
   "mimetype": "text/x-python",
   "name": "python",
   "nbconvert_exporter": "python",
   "pygments_lexer": "ipython3",
   "version": "3.11.12"
  }
 },
 "nbformat": 4,
 "nbformat_minor": 2
}
