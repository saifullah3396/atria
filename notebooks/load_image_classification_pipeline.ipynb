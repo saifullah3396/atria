{
 "cells": [
  {
   "cell_type": "code",
   "execution_count": 1,
   "metadata": {},
   "outputs": [],
   "source": [
    "%load_ext autoreload\n",
    "%autoreload 2"
   ]
  },
  {
   "cell_type": "code",
   "execution_count": 2,
   "metadata": {},
   "outputs": [],
   "source": [
    "# from atria_transforms.core.tf_composer import ImageTransformsComposer\n",
    "# from atria_transforms.core.torchvision import TorchvisionTransform\n",
    "# from omegaconf import OmegaConf\n",
    "# composer = TorchvisionTransform('Resize', size=(224, 224))\n",
    "# composer = ImageTransformsComposer(transforms=[{'name': 'image/resize', 'kwargs': {'size': (224, 224)}}])\n",
    "# # print(composer.config)\n",
    "# # composer.config = OmegaConf.to_container(composer.config)\n",
    "\n",
    "# # from hydra_zen import instantiate\n",
    "# # print(composer.config['transforms'])\n",
    "# # if isinstance(composer.config['transforms'], list) and all(\n",
    "# #     isinstance(x, dict) and \"name\" in x and \"kwargs\" in x\n",
    "# #     for x in composer.config['transforms']\n",
    "# # ):\n",
    "# #     print(\"end=\")\n",
    "# # print(\"instantiating transforms\", type(composer.config['transforms'][0]))\n",
    "# # instantiate(composer.config, _convert_=\"object\",)"
   ]
  },
  {
   "cell_type": "code",
   "execution_count": 3,
   "metadata": {},
   "outputs": [],
   "source": [
    "# from atria_models.core.timm_model import TimmModel\n",
    "# model = TimmModel('resnet50',test=1)\n",
    "# model.config"
   ]
  },
  {
   "cell_type": "code",
   "execution_count": 4,
   "metadata": {},
   "outputs": [
    {
     "name": "stderr",
     "output_type": "stream",
     "text": [
      "/mnt/hephaistos/projects/atria_agent/atria/.venv/lib/python3.11/site-packages/tqdm/auto.py:21: TqdmWarning: IProgress not found. Please update jupyter and ipywidgets. See https://ipywidgets.readthedocs.io/en/stable/user_install.html\n",
      "  from .autonotebook import tqdm as notebook_tqdm\n"
     ]
    },
    {
     "name": "stdout",
     "output_type": "stream",
     "text": [
      "Calling wrapped_init for TimmModel <class 'atria_models.core.timm_model.TimmModel'> <class 'atria_models.core.timm_model.TimmModel'>\n",
      "Calling wrapped_init for AtriaModel <class 'atria_models.core.timm_model.TimmModel'> <class 'atria_models.core.atria_model.AtriaModel'>\n"
     ]
    },
    {
     "name": "stderr",
     "output_type": "stream",
     "text": [
      "[2025-07-17 17:52:54][atria_models.core.timm_model][INFO] Setting up model TimmModel(model_name='resnet50', num_classes=10)\n"
     ]
    },
    {
     "name": "stdout",
     "output_type": "stream",
     "text": [
      "{'_target_': 'atria_models.pipelines.classification.image.ImageClassificationPipeline', 'model': {'_target_': 'atria_models.core.timm_model.TimmModel', 'model_name': 'resnet50', 'convert_bn_to_gn': False, 'is_frozen': False, 'frozen_keys_patterns': None, 'unfrozen_keys_patterns': None, 'pretrained_checkpoint': None}, 'checkpoint_configs': None, 'mixup_config': None, 'runtime_transforms': {'train': {'_target_': 'atria_transforms.core.tf_composer.ImageTransformsComposer', 'transforms': [{'name': 'image/resize', 'kwargs': {'apply_path': 'content'}}, {'name': 'image/to_tensor', 'kwargs': {'apply_path': 'content'}}, {'name': 'image/tensor_gray_to_rgb', 'kwargs': {'apply_path': 'content'}}, {'name': 'image/normalize', 'kwargs': {'apply_path': 'content'}}], 'apply_path': 'image'}, 'evaluation': {'_target_': 'atria_transforms.core.tf_composer.ImageTransformsComposer', 'transforms': [{'name': 'image/resize', 'kwargs': {'apply_path': 'content'}}, {'name': 'image/to_tensor', 'kwargs': {'apply_path': 'content'}}, {'name': 'image/tensor_gray_to_rgb', 'kwargs': {'apply_path': 'content'}}, {'name': 'image/normalize', 'kwargs': {'apply_path': 'content'}}], 'apply_path': 'image'}}}\n"
     ]
    }
   ],
   "source": [
    "import sys \n",
    "sys.path.append(\"..\")\n",
    "from atria_models.pipelines.atria_model_pipeline import AtriaModelPipeline\n",
    "from atria_models.registry import MODEL_PIPELINE\n",
    "import json \n",
    "from atria_core.types import DatasetMetadata, DatasetLabels\n",
    "model_pipeline: AtriaModelPipeline = MODEL_PIPELINE.load_from_registry(\n",
    "    \"image_classification\",\n",
    "    overrides=[\"model_pipeline.model.model_name=resnet50\"],\n",
    ")\n",
    "model_pipeline.build(\n",
    "    dataset_metadata=DatasetMetadata(dataset_labels=DatasetLabels(\n",
    "        classification=[str(i) for i in range(10)],\n",
    "    ))\n",
    ")\n",
    "print(model_pipeline.config)\n",
    "# print(model_pipeline)"
   ]
  },
  {
   "cell_type": "code",
   "execution_count": 5,
   "metadata": {},
   "outputs": [
    {
     "data": {
      "text/plain": [
       "ClassificationModelOutput(loss=tensor(2.2112, grad_fn=<NllLossBackward0>), logits=tensor([[-0.0355,  0.0203,  0.1515, -0.1236,  0.3739,  0.3305,  0.1166,  0.0159,\n",
       "         -0.1409,  0.1960]], grad_fn=<AddmmBackward0>), prediction=None, label=Label(value=tensor([9]), name=['ok'], device='cpu'))"
      ]
     },
     "execution_count": 5,
     "metadata": {},
     "output_type": "execute_result"
    }
   ],
   "source": [
    "from atria_core.types.factory import ImageInstanceFactory\n",
    "from atria_core.types import GroundTruth\n",
    "model_pipeline.enable_runtime_transforms()\n",
    "image = ImageInstanceFactory.build()\n",
    "image.gt = GroundTruth(classification = image.gt.classification)\n",
    "model_pipeline.training_step([image])"
   ]
  },
  {
   "cell_type": "code",
   "execution_count": 6,
   "metadata": {},
   "outputs": [],
   "source": [
    "# from omegaconf import OmegaConf\n",
    "# print(json.dumps(OmegaConf.to_container(model_pipeline.config), indent=2, sort_keys=True))"
   ]
  },
  {
   "cell_type": "code",
   "execution_count": 7,
   "metadata": {},
   "outputs": [],
   "source": [
    "# from atria_models.pipelines.classification.image import ImageClassificationPipeline\n",
    "\n",
    "# print(model_pipeline.config)\n",
    "# model_pipeline.upload_to_hub(\n",
    "#     \"mymodel\"\n",
    "# )\n",
    "\n",
    "# loaded = ImageClassificationPipeline.load_from_hub(\n",
    "#     \"mymodel\", \n",
    "# )"
   ]
  },
  {
   "cell_type": "code",
   "execution_count": 8,
   "metadata": {},
   "outputs": [],
   "source": [
    "# loaded.state_dict()['dataset_metadata'] = model_pipeline.state_dict()['dataset_metadata']\n",
    "# loaded.state_dict()['config'] = model_pipeline.state_dict()['config']\n",
    "# print(loaded.state_dict()['config'])"
   ]
  },
  {
   "cell_type": "code",
   "execution_count": 9,
   "metadata": {},
   "outputs": [],
   "source": [
    "# from atria_models.pipelines.classification.image import ImageClassificationPipeline\n",
    "# from omegaconf import OmegaConf\n",
    "# from atria_models.registry import MODEL\n",
    "# from atria_models.core.timm_model import TimmModel\n",
    "# from rich.pretty import pretty_repr\n",
    "# import json\n",
    "# model = TimmModel(model_name=\"resnet50\")\n",
    "# pipeline = ImageClassificationPipeline(model=model, checkpoint_configs='test')\n",
    "# print(json.dumps(pipeline._config, indent=2))"
   ]
  }
 ],
 "metadata": {
  "kernelspec": {
   "display_name": "atria",
   "language": "python",
   "name": "python3"
  },
  "language_info": {
   "codemirror_mode": {
    "name": "ipython",
    "version": 3
   },
   "file_extension": ".py",
   "mimetype": "text/x-python",
   "name": "python",
   "nbconvert_exporter": "python",
   "pygments_lexer": "ipython3",
   "version": "3.11.12"
  }
 },
 "nbformat": 4,
 "nbformat_minor": 2
}
